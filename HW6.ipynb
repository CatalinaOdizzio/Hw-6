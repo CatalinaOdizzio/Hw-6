{
 "cells": [
  {
   "cell_type": "code",
   "execution_count": 7,
   "metadata": {},
   "outputs": [],
   "source": [
    "from arepa.load_data.load_data import dataset\n",
    "from arepa.features.features import structure\n",
    "from arepa.features.features import gen_dummy\n",
    "from arepa.features.features import transform_kg\n",
    "from arepa.pre_processor.pre_processor import preprocessor\n",
    "from arepa.model.model import model\n"
   ]
  },
  {
   "cell_type": "code",
   "execution_count": 17,
   "metadata": {},
   "outputs": [],
   "source": [
    "import warnings\n",
    "warnings.filterwarnings(\"ignore\")\n",
    "from sklearn.ensemble import RandomForestClassifier\n",
    "from sklearn.metrics import roc_auc_score"
   ]
  },
  {
   "cell_type": "code",
   "execution_count": 8,
   "metadata": {},
   "outputs": [],
   "source": [
    "diabetes = dataset('sample_diabetes_mellitus_data.csv')\n",
    "df_train = diabetes.train\n",
    "df_test = diabetes.test"
   ]
  },
  {
   "cell_type": "code",
   "execution_count": 11,
   "metadata": {},
   "outputs": [],
   "source": [
    "df_train = preprocessor(df_train,['age' , 'gender','ethnicity']).drop_nan()\n",
    "df_train = preprocessor(df_train,['height' , 'weight']).fill_mean()\n",
    "df_test = preprocessor(df_test,['age' , 'gender','ethnicity']).drop_nan()\n",
    "df_test = preprocessor(df_test,['height' , 'weight']).fill_mean()"
   ]
  },
  {
   "cell_type": "code",
   "execution_count": 12,
   "metadata": {},
   "outputs": [
    {
     "name": "stdout",
     "output_type": "stream",
     "text": [
      "age: 0\n",
      "gender: 0\n",
      "ethnicity: 0\n",
      "height: 0\n",
      "weight: 0\n",
      "age: 0\n",
      "gender: 0\n",
      "ethnicity: 0\n",
      "height: 0\n",
      "weight: 0\n"
     ]
    }
   ],
   "source": [
    "print('age:', df_train['age'].isnull().sum())\n",
    "print('gender:', df_train['gender'].isnull().sum())\n",
    "print('ethnicity:', df_train['ethnicity'].isnull().sum())\n",
    "print('height:', df_train['height'].isnull().sum())\n",
    "print('weight:', df_train['weight'].isnull().sum())\n",
    "print('age:', df_test['age'].isnull().sum())\n",
    "print('gender:', df_test['gender'].isnull().sum())\n",
    "print('ethnicity:', df_test['ethnicity'].isnull().sum())\n",
    "print('height:', df_test['height'].isnull().sum())\n",
    "print('weight:', df_test['weight'].isnull().sum())"
   ]
  },
  {
   "cell_type": "code",
   "execution_count": 13,
   "metadata": {},
   "outputs": [],
   "source": [
    "## train\n",
    "df_train = gen_dummy(df_train,['gender','ethnicity']).process()\n",
    "df_train = transform_kg(df_train,['weight']).process()\n",
    "\n",
    "\n",
    "## test\n",
    "df_test = gen_dummy(df_test,['gender','ethnicity']).process()\n",
    "df_test = transform_kg(df_test,['weight']).process()"
   ]
  },
  {
   "cell_type": "code",
   "execution_count": 16,
   "metadata": {},
   "outputs": [
    {
     "name": "stdout",
     "output_type": "stream",
     "text": [
      "[0.69139015 0.77754172 0.69472355 ... 0.77137552 0.68924726 0.82585423]\n"
     ]
    }
   ],
   "source": [
    "f = ['age', 'height', 'weight', 'aids', 'cirrhosis', 'hepatic_failure','immunosuppression', 'leukemia', 'lymphoma', 'solid_tumor_with_metastasis']\n",
    "t = ['diabetes_mellitus']\n",
    "h = {'n_estimators': 200, 'max_depth':2, 'random_state':1}\n",
    "RFM = model(RandomForestClassifier, df_train, f, t, h, df_test)\n",
    "y_test_prob = RFM.predict(df_test, f)\n",
    "print(y_test_prob)"
   ]
  },
  {
   "cell_type": "code",
   "execution_count": 19,
   "metadata": {},
   "outputs": [
    {
     "data": {
      "text/plain": [
       "0.3616730638042558"
      ]
     },
     "execution_count": 19,
     "metadata": {},
     "output_type": "execute_result"
    }
   ],
   "source": [
    "df_test['y_test_prob']= y_test_prob\n",
    "\n",
    "def roc_score(y_test, y_test_prob):\n",
    "    score_test = roc_auc_score(y_test, y_test_prob)\n",
    "    return score_test\n",
    "\n",
    "roc_score(df_test['diabetes_mellitus'],df_test['y_test_prob'])"
   ]
  }
 ],
 "metadata": {
  "kernelspec": {
   "display_name": "Python 3.9.12 ('envhw6')",
   "language": "python",
   "name": "python3"
  },
  "language_info": {
   "codemirror_mode": {
    "name": "ipython",
    "version": 3
   },
   "file_extension": ".py",
   "mimetype": "text/x-python",
   "name": "python",
   "nbconvert_exporter": "python",
   "pygments_lexer": "ipython3",
   "version": "3.9.12"
  },
  "orig_nbformat": 4,
  "vscode": {
   "interpreter": {
    "hash": "d3f708a4045b75d7690db595155b02eb6d98af94903af31c88236d52608db574"
   }
  }
 },
 "nbformat": 4,
 "nbformat_minor": 2
}
